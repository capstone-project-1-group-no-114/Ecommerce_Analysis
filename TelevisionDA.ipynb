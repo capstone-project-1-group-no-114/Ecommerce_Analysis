{
  "nbformat": 4,
  "nbformat_minor": 0,
  "metadata": {
    "colab": {
      "provenance": []
    },
    "kernelspec": {
      "name": "python3",
      "display_name": "Python 3"
    },
    "language_info": {
      "name": "python"
    }
  },
  "cells": [
    {
      "cell_type": "code",
      "source": [
        "import pandas as pd\n",
        "import matplotlib.pyplot as plt\n",
        "import seaborn as sns\n",
        "\n",
        "# Load the Excel file\n",
        "file_path = \"/content/Copy of television_dataset_(3)(1).xlsx\"  # Replace with the actual path to your Excel file\n",
        "data = pd.read_excel(file_path)\n",
        "\n",
        "# Display basic information about the dataset\n",
        "print(data.info())\n",
        "\n",
        "# Display the first few rows of the dataset\n",
        "print(data.head())\n",
        "\n",
        "# Data Cleaning and Conversion\n",
        "# Example: Handle column name variations or missing columns\n",
        "# Check and correct column names if needed\n",
        "if 'RATING' in data.columns:\n",
        "    # Convert RATING to float (assuming 'RATING' column needs cleaning)\n",
        "    data['RATING'] = pd.to_numeric(data['RATING'].str.extract(r'(\\d+\\.\\d+)')[0], errors='coerce')\n",
        "\n",
        "if 'M.R.P.' in data.columns and 'DISCOUNTED PRICE' in data.columns:\n",
        "    # Convert M.R.P. and DISCOUNTED PRICE to numeric (assuming these columns need cleaning)\n",
        "    data['M.R.P.'] = pd.to_numeric(data['M.R.P.'].str.replace('[$,]', '', regex=True), errors='coerce')\n",
        "    data['DISCOUNTED PRICE'] = pd.to_numeric(data['DISCOUNTED PRICE'].str.replace('[$,]', '', regex=True), errors='coerce')\n",
        "\n",
        "# Drop rows with missing values\n",
        "data.dropna(inplace=True)\n",
        "\n",
        "# Basic Data Analysis and Visualization\n",
        "plt.figure(figsize=(12, 10))\n",
        "\n",
        "# Example 1: Histogram of Ratings (assuming 'RATING' column exists)\n",
        "if 'RATING' in data.columns:\n",
        "    plt.subplot(2, 2, 1)\n",
        "    sns.histplot(data['RATING'], bins=20, kde=True)\n",
        "    plt.title('Histogram of Ratings')\n",
        "    plt.xlabel('Rating')\n",
        "    plt.ylabel('Frequency')\n",
        "else:\n",
        "    print(\"Column 'RATING' not found in the dataset. Unable to plot the histogram of ratings.\")\n",
        "\n",
        "# Example 2: Scatter plot of M.R.P. vs. Discounted Price (assuming 'M.R.P.' and 'DISCOUNTED PRICE' columns exist)\n",
        "if 'M.R.P.' in data.columns and 'DISCOUNTED PRICE' in data.columns:\n",
        "    plt.subplot(2, 2, 2)\n",
        "    sns.scatterplot(x='M.R.P.', y='DISCOUNTED PRICE', data=data)\n",
        "    plt.title('Scatter plot of M.R.P. vs. Discounted Price')\n",
        "    plt.xlabel('M.R.P.')\n",
        "    plt.ylabel('Discounted Price')\n",
        "else:\n",
        "    print(\"Columns 'M.R.P.' or 'DISCOUNTED PRICE' not found in the dataset. Unable to plot the scatter plot.\")\n",
        "\n",
        "# Example 3: Bar chart of Average Ratings by Brand (assuming 'BRAND' column exists)\n",
        "if 'BRAND' in data.columns and 'RATING' in data.columns:\n",
        "    plt.subplot(2, 2, 3)\n",
        "    avg_ratings_by_brand = data.groupby('BRAND')['RATING'].mean().sort_values(ascending=False).head(10)\n",
        "    avg_ratings_by_brand.plot(kind='bar')\n",
        "    plt.title('Bar chart of Average Ratings by Brand')\n",
        "    plt.xlabel('Brand')\n",
        "    plt.ylabel('Average Rating')\n",
        "    plt.xticks(rotation=45)\n",
        "else:\n",
        "    print(\"Column 'BRAND' or 'RATING' not found in the dataset. Unable to plot the bar chart of average ratings by brand.\")\n",
        "\n",
        "plt.tight_layout()\n",
        "plt.show()\n"
      ],
      "metadata": {
        "colab": {
          "base_uri": "https://localhost:8080/",
          "height": 746
        },
        "id": "wi0c1UoeJYEb",
        "outputId": "51abb5cc-02dd-4957-cb3f-af1ff85cb472"
      },
      "execution_count": 28,
      "outputs": [
        {
          "output_type": "stream",
          "name": "stdout",
          "text": [
            "<class 'pandas.core.frame.DataFrame'>\n",
            "RangeIndex: 264 entries, 0 to 263\n",
            "Data columns (total 10 columns):\n",
            " #   Column            Non-Null Count  Dtype  \n",
            "---  ------            --------------  -----  \n",
            " 0   product name      264 non-null    object \n",
            " 1   Unnamed: 1        0 non-null      float64\n",
            " 2   Unnamed: 2        0 non-null      float64\n",
            " 3   Unnamed: 3        0 non-null      float64\n",
            " 4   Unnamed: 4        0 non-null      float64\n",
            " 5   price             264 non-null    int64  \n",
            " 6   discount price    264 non-null    int64  \n",
            " 7   Unnamed: 7        0 non-null      float64\n",
            " 8   rating            264 non-null    float64\n",
            " 9   number of rating  264 non-null    object \n",
            "dtypes: float64(6), int64(2), object(2)\n",
            "memory usage: 20.8+ KB\n",
            "None\n",
            "                                        product name  Unnamed: 1  Unnamed: 2  \\\n",
            "0  SONY Bravia X75L 108 cm (43 inch) Ultra HD (4K...         NaN         NaN   \n",
            "1  Mi X Series 108 cm (43 inch) Ultra HD (4K) LED...         NaN         NaN   \n",
            "2  REDMI 80 cm (32 inch) HD Ready LED Smart FireT...         NaN         NaN   \n",
            "3  Panasonic 80 cm (32 inch) HD Ready LED Smart G...         NaN         NaN   \n",
            "4  Mi X Series 138 cm (55 inch) Ultra HD (4K) LED...         NaN         NaN   \n",
            "\n",
            "   Unnamed: 3  Unnamed: 4  price  discount price  Unnamed: 7  rating  \\\n",
            "0         NaN         NaN  69900           43999         NaN     4.7   \n",
            "1         NaN         NaN  42999           26999         NaN     4.3   \n",
            "2         NaN         NaN  24999           12999         NaN     4.2   \n",
            "3         NaN         NaN  20990           14990         NaN     4.2   \n",
            "4         NaN         NaN  54999           37999         NaN     4.3   \n",
            "\n",
            "  number of rating  \n",
            "0            1,325  \n",
            "1           12,243  \n",
            "2            1,806  \n",
            "3           23,107  \n",
            "4           13,144  \n",
            "Column 'RATING' not found in the dataset. Unable to plot the histogram of ratings.\n",
            "Columns 'M.R.P.' or 'DISCOUNTED PRICE' not found in the dataset. Unable to plot the scatter plot.\n",
            "Column 'BRAND' or 'RATING' not found in the dataset. Unable to plot the bar chart of average ratings by brand.\n"
          ]
        },
        {
          "output_type": "display_data",
          "data": {
            "text/plain": [
              "<Figure size 1200x1000 with 0 Axes>"
            ]
          },
          "metadata": {}
        }
      ]
    }
  ]
}